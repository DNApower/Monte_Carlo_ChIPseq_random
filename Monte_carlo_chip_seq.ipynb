{
 "cells": [
  {
   "cell_type": "code",
   "execution_count": 1,
   "metadata": {
    "collapsed": true
   },
   "outputs": [],
   "source": [
    "def overlap(tuples, search):\n",
    "    for t in tuples:\n",
    "        if(t[1]>search[0] and t[0]<search[1]):\n",
    "            return False\n",
    "    return True\n",
    "\n",
    "def random_seq(genome_size, peak_size, peak_num):\n",
    "    import random\n",
    "    \n",
    "    sequence_true = []\n",
    "    breaks = peak_num * 2\n",
    "    while (len(sequence_true) < breaks):\n",
    "        sequence_true = []\n",
    "        \n",
    "        start = random.sample(range(genome_size), peak_size)\n",
    "        \n",
    "        sequence = [(i, (i + 19)) for i in start]\n",
    "        \n",
    "        for i in range(len(sequence)):\n",
    "            if overlap(sequence[(i+1):], sequence[i]):\n",
    "                sequence_true.append(sequence[i])\n",
    "            else:\n",
    "                pass\n",
    "    \n",
    "    selection_index = random.sample(range(len(sequence_true)), breaks)\n",
    "\n",
    "    selection = []\n",
    "    for i in selection_index:\n",
    "        selection.append(sequence_true[i])\n",
    "\n",
    "    return selection\n",
    "\n",
    "def monte_carlo_seq(n, genome_size=12500000, peak_size=200, peak_num=100):\n",
    "    from collections import Counter\n",
    "    import numpy as np\n",
    "    import time\n",
    "    import sys\n",
    "    \n",
    "    c = Counter()\n",
    "    start = time.time()\n",
    "    for i in range(n):\n",
    "        \n",
    "        a = random_seq(genome_size, peak_size, peak_num)\n",
    "        b = random_seq(genome_size, peak_size, peak_num)\n",
    "        j = 0\n",
    "        for k in a:\n",
    "            if not overlap(b, k):\n",
    "                j += 1\n",
    "        c[j] += 1\n",
    "        \n",
    "        elapsed_time = float(time.time() - start)\n",
    "        exp_per_second = i/elapsed_time if elapsed_time > 0 else 0\n",
    "        print(\"/rProgress:\" + str(100 * i/n) + \"% Speed(exp/sec):\" + str(exp_per_second))\n",
    "                         \n",
    "    return c"
   ]
  },
  {
   "cell_type": "code",
   "execution_count": 7,
   "metadata": {
    "scrolled": true
   },
   "outputs": [
    {
     "name": "stdout",
     "output_type": "stream",
     "text": [
      "/rProgress:0.0% Speed(exp/sec):0.0\n",
      "/rProgress:1.0% Speed(exp/sec):33.656478442638075\n",
      "/rProgress:2.0% Speed(exp/sec):46.48149297397934\n",
      "/rProgress:3.0% Speed(exp/sec):53.90166293983088\n",
      "/rProgress:4.0% Speed(exp/sec):58.70449384340304\n",
      "/rProgress:5.0% Speed(exp/sec):62.04481577250108\n",
      "/rProgress:6.0% Speed(exp/sec):64.58356066652466\n",
      "/rProgress:7.0% Speed(exp/sec):65.40839522895067\n",
      "/rProgress:8.0% Speed(exp/sec):65.29230158529396\n",
      "/rProgress:9.0% Speed(exp/sec):66.84149800796813\n",
      "/rProgress:10.0% Speed(exp/sec):68.17190948778878\n",
      "/rProgress:11.0% Speed(exp/sec):69.38134265288383\n",
      "/rProgress:12.0% Speed(exp/sec):69.50838616838072\n",
      "/rProgress:13.0% Speed(exp/sec):69.96318993214877\n",
      "/rProgress:14.0% Speed(exp/sec):70.8040249115255\n",
      "/rProgress:15.0% Speed(exp/sec):71.4752183806714\n",
      "/rProgress:16.0% Speed(exp/sec):72.00490985017231\n",
      "/rProgress:17.0% Speed(exp/sec):71.75421499546147\n",
      "/rProgress:18.0% Speed(exp/sec):71.42090933687012\n",
      "/rProgress:19.0% Speed(exp/sec):72.07450939959446\n",
      "/rProgress:20.0% Speed(exp/sec):72.62084416911085\n",
      "/rProgress:21.0% Speed(exp/sec):73.13684451762525\n",
      "/rProgress:22.0% Speed(exp/sec):73.6468276486809\n",
      "/rProgress:23.0% Speed(exp/sec):73.68961582002038\n",
      "/rProgress:24.0% Speed(exp/sec):73.59321087207951\n",
      "/rProgress:25.0% Speed(exp/sec):73.1683251913159\n",
      "/rProgress:26.0% Speed(exp/sec):73.41772847292445\n",
      "/rProgress:27.0% Speed(exp/sec):73.78117432290068\n",
      "/rProgress:28.0% Speed(exp/sec):73.8979301873994\n",
      "/rProgress:29.0% Speed(exp/sec):74.11609619904225\n",
      "/rProgress:30.0% Speed(exp/sec):74.44629037983671\n",
      "/rProgress:31.0% Speed(exp/sec):74.70923176546907\n",
      "/rProgress:32.0% Speed(exp/sec):75.0094185302443\n",
      "/rProgress:33.0% Speed(exp/sec):74.26211496643204\n",
      "/rProgress:34.0% Speed(exp/sec):74.5952815611377\n",
      "/rProgress:35.0% Speed(exp/sec):74.81476800388138\n",
      "/rProgress:36.0% Speed(exp/sec):75.0614400944911\n",
      "/rProgress:37.0% Speed(exp/sec):75.27378273084265\n",
      "/rProgress:38.0% Speed(exp/sec):75.45762243244805\n",
      "/rProgress:39.0% Speed(exp/sec):75.41392497327192\n",
      "/rProgress:40.0% Speed(exp/sec):75.63096064553937\n",
      "/rProgress:41.0% Speed(exp/sec):75.45324167779307\n",
      "/rProgress:42.0% Speed(exp/sec):75.59435156112212\n",
      "/rProgress:43.0% Speed(exp/sec):75.80874623804159\n",
      "/rProgress:44.0% Speed(exp/sec):75.9908703588486\n",
      "/rProgress:45.0% Speed(exp/sec):76.20945117667294\n",
      "/rProgress:46.0% Speed(exp/sec):76.37378816601635\n",
      "/rProgress:47.0% Speed(exp/sec):76.55459320286363\n",
      "/rProgress:48.0% Speed(exp/sec):76.69604909422615\n",
      "/rProgress:49.0% Speed(exp/sec):76.76329242570871\n",
      "/rProgress:50.0% Speed(exp/sec):76.58269473399758\n",
      "/rProgress:51.0% Speed(exp/sec):76.66441259175846\n",
      "/rProgress:52.0% Speed(exp/sec):76.73850780864896\n",
      "/rProgress:53.0% Speed(exp/sec):76.91582299591578\n",
      "/rProgress:54.0% Speed(exp/sec):77.0436874445539\n",
      "/rProgress:55.0% Speed(exp/sec):77.15411677865862\n",
      "/rProgress:56.0% Speed(exp/sec):77.2828408690465\n",
      "/rProgress:57.0% Speed(exp/sec):77.34635103338077\n",
      "/rProgress:58.0% Speed(exp/sec):77.08737247545365\n",
      "/rProgress:59.0% Speed(exp/sec):77.15514372434608\n",
      "/rProgress:60.0% Speed(exp/sec):77.18988334940062\n",
      "/rProgress:61.0% Speed(exp/sec):77.03343793036379\n",
      "/rProgress:62.0% Speed(exp/sec):77.13074539071104\n",
      "/rProgress:63.0% Speed(exp/sec):77.24725474381263\n",
      "/rProgress:64.0% Speed(exp/sec):77.35074013785862\n",
      "/rProgress:65.0% Speed(exp/sec):77.40325932655726\n",
      "/rProgress:66.0% Speed(exp/sec):77.44188279317093\n",
      "/rProgress:67.0% Speed(exp/sec):77.51488836792727\n",
      "/rProgress:68.0% Speed(exp/sec):77.42299089207302\n",
      "/rProgress:69.0% Speed(exp/sec):77.47482490281749\n",
      "/rProgress:70.0% Speed(exp/sec):77.56653494151097\n",
      "/rProgress:71.0% Speed(exp/sec):77.55885079935243\n",
      "/rProgress:72.0% Speed(exp/sec):77.38623790863608\n",
      "/rProgress:73.0% Speed(exp/sec):77.45053470694134\n",
      "/rProgress:74.0% Speed(exp/sec):77.32052274686237\n",
      "/rProgress:75.0% Speed(exp/sec):77.3853209542194\n",
      "/rProgress:76.0% Speed(exp/sec):77.46826256091109\n",
      "/rProgress:77.0% Speed(exp/sec):77.55100860774984\n",
      "/rProgress:78.0% Speed(exp/sec):77.62043876669291\n",
      "/rProgress:79.0% Speed(exp/sec):77.49238897786293\n",
      "/rProgress:80.0% Speed(exp/sec):77.49370201452393\n",
      "/rProgress:81.0% Speed(exp/sec):77.49883639499154\n",
      "/rProgress:82.0% Speed(exp/sec):77.57307003868584\n",
      "/rProgress:83.0% Speed(exp/sec):77.49029265711702\n",
      "/rProgress:84.0% Speed(exp/sec):77.54005426371603\n",
      "/rProgress:85.0% Speed(exp/sec):77.61961980050576\n",
      "/rProgress:86.0% Speed(exp/sec):77.71811718450715\n",
      "/rProgress:87.0% Speed(exp/sec):77.51116941666174\n",
      "/rProgress:88.0% Speed(exp/sec):77.59245052965278\n",
      "/rProgress:89.0% Speed(exp/sec):77.66088793448154\n",
      "/rProgress:90.0% Speed(exp/sec):77.52125745127447\n",
      "/rProgress:91.0% Speed(exp/sec):77.60942224054952\n",
      "/rProgress:92.0% Speed(exp/sec):77.67645530135067\n",
      "/rProgress:93.0% Speed(exp/sec):77.59602907218233\n",
      "/rProgress:94.0% Speed(exp/sec):77.61763060886\n",
      "/rProgress:95.0% Speed(exp/sec):77.6670427945712\n",
      "/rProgress:96.0% Speed(exp/sec):77.5535125598524\n",
      "/rProgress:97.0% Speed(exp/sec):77.59807591440794\n",
      "/rProgress:98.0% Speed(exp/sec):77.62123818402898\n",
      "/rProgress:99.0% Speed(exp/sec):77.64297322055138\n"
     ]
    }
   ],
   "source": [
    "d = monte_carlo_seq(100,30000000, 200,100)"
   ]
  },
  {
   "cell_type": "code",
   "execution_count": 8,
   "metadata": {},
   "outputs": [
    {
     "data": {
      "text/plain": [
       "Counter({0: 96, 1: 4})"
      ]
     },
     "execution_count": 8,
     "metadata": {},
     "output_type": "execute_result"
    }
   ],
   "source": [
    "d"
   ]
  },
  {
   "cell_type": "code",
   "execution_count": null,
   "metadata": {
    "collapsed": true
   },
   "outputs": [],
   "source": []
  },
  {
   "cell_type": "code",
   "execution_count": null,
   "metadata": {
    "collapsed": true
   },
   "outputs": [],
   "source": []
  }
 ],
 "metadata": {
  "kernelspec": {
   "display_name": "Python [conda env:python3]",
   "language": "python",
   "name": "conda-env-python3-py"
  },
  "language_info": {
   "codemirror_mode": {
    "name": "ipython",
    "version": 3
   },
   "file_extension": ".py",
   "mimetype": "text/x-python",
   "name": "python",
   "nbconvert_exporter": "python",
   "pygments_lexer": "ipython3",
   "version": "3.5.2"
  }
 },
 "nbformat": 4,
 "nbformat_minor": 1
}
